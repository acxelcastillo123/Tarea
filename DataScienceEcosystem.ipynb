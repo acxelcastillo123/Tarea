{
  "metadata": {
    "language_info": {
      "codemirror_mode": {
        "name": "python",
        "version": 3
      },
      "file_extension": ".py",
      "mimetype": "text/x-python",
      "name": "python",
      "nbconvert_exporter": "python",
      "pygments_lexer": "ipython3",
      "version": "3.8"
    },
    "kernelspec": {
      "name": "python",
      "display_name": "Pyolite",
      "language": "python"
    }
  },
  "nbformat_minor": 4,
  "nbformat": 4,
  "cells": [
    {
      "cell_type": "markdown",
      "source": "<p style=\"text-align:center\">\n    <a href=\"https://skills.network/?utm_medium=Exinfluencer&utm_source=Exinfluencer&utm_content=000026UJ&utm_term=10006555&utm_id=NA-SkillsNetwork-Channel-SkillsNetworkCoursesIBMDeveloperSkillsNetworkPY0101ENSkillsNetwork19487395-2022-01-01\" target=\"_blank\">\n    <img src=\"https://cf-courses-data.s3.us.cloud-object-storage.appdomain.cloud/assets/logos/SN_web_lightmode.png\" width=\"200\" alt=\"Skills Network Logo\"  />\n    </a>\n</p>\n",
      "metadata": {}
    },
    {
      "cell_type": "markdown",
      "source": "**Exercise 1: Create a Jupyter Notebook**\n\nCreate a new Jupyter notebook called DataScienceEcosystem.ipynb\n\n",
      "metadata": {}
    },
    {
      "cell_type": "markdown",
      "source": "**Exercise 2: Create markdown cell with title of the notebook**\n\nCreate a markdown cell with the title Data Science Tools and Ecosystem using H1 style heading.\n\nTake a screenshot of the markdown cell and name it as 2-title.png",
      "metadata": {}
    },
    {
      "cell_type": "markdown",
      "source": "# Data Science Tools and Ecosystem",
      "metadata": {
        "tags": []
      }
    },
    {
      "cell_type": "code",
      "source": "# Data Science Tools and Ecosystem\n\n",
      "metadata": {},
      "execution_count": null,
      "outputs": []
    },
    {
      "cell_type": "markdown",
      "source": "**Exercise 3 - Create a markdown cell for an introduction**\n\nWrite an introductory sentence about the notebook such as the follows:\n\nIn this notebook, Data Science Tools and Ecosystem are summarized.\nTake a screenshot of the markdown cell and name it as 3-intro.png ",
      "metadata": {}
    },
    {
      "cell_type": "markdown",
      "source": "This notebook outlines the data science ecosystem and tools. It will be used to demonstrate what has been learned in the data science tools module\n",
      "metadata": {}
    },
    {
      "cell_type": "code",
      "source": "This notebook outlines the data science ecosystem and tools. It will be used to demonstrate what has been learned in the data science tools module\n\n",
      "metadata": {},
      "execution_count": null,
      "outputs": []
    },
    {
      "cell_type": "markdown",
      "source": "**Exercise 10 - Insert a markdown cell to list Objectives**\n\nBelow the introduction cell created in Exercise 3, insert a new markdown cell to list the objectives that this notebook covered (i.e. some of the key takeaways from the course). In this new cell start with an introductory line titled: Objectives: in bold font. Then using an unordered list (bullets) indicate 3 to 5 items covered in this notebook, such as List popular languages for Data Science.\nTake a screenshot of the markdown cell and name it as 10-objectives.png ",
      "metadata": {}
    },
    {
      "cell_type": "markdown",
      "source": "**Objectives:**\n\n* List popular languages for Data Science.\n* Introduce common libraries used in Data Science.\n* Demonstrate arithmetic expressions in Python.\n* Convert minutes to hours using Python.",
      "metadata": {}
    },
    {
      "cell_type": "code",
      "source": "**Objectives:**\n\n* List popular languages for Data Science.\n* Introduce common libraries used in Data Science.\n* Demonstrate arithmetic expressions in Python.\n* Convert minutes to hours using Python.",
      "metadata": {},
      "execution_count": null,
      "outputs": []
    },
    {
      "cell_type": "markdown",
      "source": "**Exercise 4 - Create a markdown cell to list data science languages**\n\nStart the cell with an overview line such as:\n\nSome of the popular languages that Data Scientists use are:\nThen create an ordered list (i.e. numbered) listing 3 (or more) commonly used languages for data science.\nTake a screenshot of the markdown cell and name it as 4-dslanguages.png ",
      "metadata": {}
    },
    {
      "cell_type": "markdown",
      "source": "Some of the popular languages that Data Scientists use are:\n\n1. Python\n2. R\n3. SQL\n",
      "metadata": {}
    },
    {
      "cell_type": "code",
      "source": "Some of the popular languages that Data Scientists use are:\n\n1. Python\n2. R\n3. SQL\n\n",
      "metadata": {},
      "execution_count": null,
      "outputs": []
    },
    {
      "cell_type": "markdown",
      "source": "**Exercise 5 - Create a markdown cell to list data science libraries**\n\nAdd an overview line to the cell like:\n\nSome of the commonly used libraries used by Data Scientists include:\nBelow this line add an ordered list listing 3 (or more) commonly used libraries in data science.\nTake a screenshot of the markdown cell and name it as 5-dslibraries.png",
      "metadata": {}
    },
    {
      "cell_type": "markdown",
      "source": "Some of the commonly used libraries used by Data Scientists include:\n\n1. Pandas\n2. NumPy\n3. Matplotlib",
      "metadata": {}
    },
    {
      "cell_type": "code",
      "source": "Some of the commonly used libraries used by Data Scientists include:\n\n1. Pandas\n2. NumPy\n3. Matplotlib\n\n",
      "metadata": {},
      "execution_count": null,
      "outputs": []
    },
    {
      "cell_type": "markdown",
      "source": "**Exercise 6 - Create a markdown cell with a table of Data Science tools**\n\nCreate a single column table in this cell with the first row containing the header Data Science Tools. The subsequent three rows in the table should indicate three development environment open source tools used in data science.\n\nTake a screenshot of the markdown cell and name it as 6-dstools.png ",
      "metadata": {}
    },
    {
      "cell_type": "markdown",
      "source": "| Data Science Tools |\n|--------------------|\n| Jupyter Notebook   |\n| RStudio            |\n| Anaconda           |",
      "metadata": {}
    },
    {
      "cell_type": "code",
      "source": "| Data Science Tools |\n|--------------------|\n| Jupyter Notebook   |\n| RStudio            |\n| Anaconda           |\n\n",
      "metadata": {},
      "execution_count": null,
      "outputs": []
    },
    {
      "cell_type": "markdown",
      "source": "**Exercise 7 - Create a markdown cell introducing arithmetic expression examples**\n\nAdd a line in this cell with H3 style heading with text like:\n\nBelow are a few examples of evaluating arithmetic expressions in Python.\nTake a screenshot of the markdown cell and name it as 7-introarithmetic.png ",
      "metadata": {}
    },
    {
      "cell_type": "markdown",
      "source": "### Below are a few examples of evaluating arithmetic expressions in Python.\n\n- Addition: `2 + 3 = 5`\n- Subtraction: `5 - 2 = 3`\n- Multiplication: `4 * 5 = 20`\n- Division: `10 / 2 = 5`\n- Exponentiation: `2 ** 3 = 8`\n- Modulo (Remainder): `10 % 3 = 1`",
      "metadata": {}
    },
    {
      "cell_type": "code",
      "source": "### Below are a few examples of evaluating arithmetic expressions in Python.\n\n- Addition: `2 + 3 = 5`\n- Subtraction: `5 - 2 = 3`\n- Multiplication: `4 * 5 = 20`\n- Division: `10 / 2 = 5`\n- Exponentiation: `2 ** 3 = 8`\n- Modulo (Remainder): `10 % 3 = 1`\n\n",
      "metadata": {},
      "execution_count": null,
      "outputs": []
    },
    {
      "cell_type": "markdown",
      "source": "**Exercise 8 - Create a code cell to multiply and add numbers**\n\nIn this code cell evaluate the expression (3*4)+5.\nInsert a comment line before the expression to explain the operation e.g.  This a simple arithmetic expression to mutiply then add integers.\nThen execute the cell to ensure the expression returns the expected output of 17.\nTake a screenshot of the code cell with output and name it as 8-multiplyandaddintegers.png ",
      "metadata": {}
    },
    {
      "cell_type": "code",
      "source": "# This a simple arithmetic expression to mutiply then add integers\n(3*4)+5",
      "metadata": {
        "trusted": true
      },
      "execution_count": 6,
      "outputs": [
        {
          "execution_count": 6,
          "output_type": "execute_result",
          "data": {
            "text/plain": "17"
          },
          "metadata": {}
        }
      ]
    },
    {
      "cell_type": "markdown",
      "source": "**Exercise 9 - Create a code cell to convert minutes to hours**\n\nIn this code cell write an expression that converts 200 minutes into hours.\nInsert a comment line before the expression to explain the operation e.g.  This will convert 200 minutes to hours by diving by 60.\nRun the cell to evaluate the expression.\nTake a screenshot of the code cell with output and name it as 9-hourstominutes.png",
      "metadata": {}
    },
    {
      "cell_type": "code",
      "source": "# This will convert 200 minutes to hours by dividing by 60.\nminutes = 200\nhours = minutes / 60\nprint(hours)",
      "metadata": {
        "trusted": true
      },
      "execution_count": 7,
      "outputs": [
        {
          "name": "stdout",
          "text": "3.3333333333333335\n",
          "output_type": "stream"
        }
      ]
    },
    {
      "cell_type": "markdown",
      "source": "**Exercise 11 - Create a markdown cell to indicate the Author's name**\n\nIn this markdown cell markdown cell include the following text Author in H2 style heading. Include your name as regular text below the word Author.\nTake a screenshot of the markdown cell and name it as 11-authordetails.png",
      "metadata": {}
    },
    {
      "cell_type": "markdown",
      "source": "## Author\n## Acxel David Castillo",
      "metadata": {}
    },
    {
      "cell_type": "code",
      "source": "## Author\n## Acxel David Castillo",
      "metadata": {},
      "execution_count": null,
      "outputs": []
    }
  ]
}